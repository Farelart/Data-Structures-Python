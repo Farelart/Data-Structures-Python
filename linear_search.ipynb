{
 "cells": [
  {
   "cell_type": "code",
   "execution_count": 1,
   "id": "a08b9d96-6179-43b7-bd33-645528fc7135",
   "metadata": {},
   "outputs": [],
   "source": [
    "# function signature\n",
    "def locate_card(cards, query):\n",
    "    print('cards', cards)\n",
    "    print('query', query)\n",
    "    position = 0\n",
    "    while position < len(cards):\n",
    "        if cards[position] == query:\n",
    "            return position\n",
    "        position += 1\n",
    "    return -1"
   ]
  },
  {
   "cell_type": "code",
   "execution_count": 2,
   "id": "1a2c6ec7-b8d2-4ed6-828d-723add9374d2",
   "metadata": {},
   "outputs": [],
   "source": [
    "test = { \n",
    "    'input': {\n",
    "        'cards': [13, 11, 10, 7, 4, 3, 1, 0],\n",
    "        'query': 7\n",
    "    },\n",
    "    'output': 3\n",
    "}"
   ]
  },
  {
   "cell_type": "code",
   "execution_count": 3,
   "id": "69ffa471-d857-4fa1-965b-8cd51ebbd3c5",
   "metadata": {},
   "outputs": [
    {
     "name": "stdout",
     "output_type": "stream",
     "text": [
      "cards [13, 11, 10, 7, 4, 3, 1, 0]\n",
      "query 7\n",
      "3\n"
     ]
    }
   ],
   "source": [
    "result = locate_card(test['input']['cards'], test['input']['query'])\n",
    "print(result)"
   ]
  },
  {
   "cell_type": "code",
   "execution_count": 4,
   "id": "8f596ecb-2f05-45eb-942a-4cc7f3f411f0",
   "metadata": {},
   "outputs": [
    {
     "name": "stdout",
     "output_type": "stream",
     "text": [
      "cards [13, 11, 10, 7, 4, 3, 1, 0]\n",
      "query 7\n"
     ]
    },
    {
     "data": {
      "text/plain": [
       "True"
      ]
     },
     "execution_count": 4,
     "metadata": {},
     "output_type": "execute_result"
    }
   ],
   "source": [
    "locate_card(**test['input']) == test['output']"
   ]
  },
  {
   "cell_type": "code",
   "execution_count": 5,
   "id": "f0c06338-8c5a-4b52-9ad3-e174f2dd0387",
   "metadata": {},
   "outputs": [],
   "source": [
    "tests = []"
   ]
  },
  {
   "cell_type": "code",
   "execution_count": 6,
   "id": "4302c600-003f-4dc0-9068-6db8a3f3de77",
   "metadata": {},
   "outputs": [],
   "source": [
    "tests.append({\n",
    "    'input':{\n",
    "        'cards': [13, 11, 10, 7, 4, 3, 1, 0],\n",
    "        'query': 1\n",
    "    },\n",
    "    'output': 6\n",
    "})"
   ]
  },
  {
   "cell_type": "code",
   "execution_count": 7,
   "id": "725c0418-ffe0-44d6-8f7f-0477686b8e1e",
   "metadata": {},
   "outputs": [],
   "source": [
    "tests.append({\n",
    "    'input':{\n",
    "        'cards': [4, 2, 1, -1],\n",
    "        'query': 4\n",
    "    },\n",
    "    'output': 0\n",
    "})"
   ]
  },
  {
   "cell_type": "code",
   "execution_count": 8,
   "id": "e7e44a29-150e-4558-8f76-c9972faeff8d",
   "metadata": {},
   "outputs": [],
   "source": [
    "tests.append({\n",
    "    'input':{\n",
    "        'cards': [3, -1, -9, -127],\n",
    "        'query': -127\n",
    "    },\n",
    "    'output': 3\n",
    "})"
   ]
  },
  {
   "cell_type": "code",
   "execution_count": 9,
   "id": "688e6fc3-1e5e-4548-bec2-51a93ddf2d2f",
   "metadata": {},
   "outputs": [],
   "source": [
    "tests.append({\n",
    "    'input':{\n",
    "        'cards': [6],\n",
    "        'query': 6\n",
    "    },\n",
    "    'output': 0\n",
    "})"
   ]
  },
  {
   "cell_type": "code",
   "execution_count": 10,
   "id": "d8839748-9060-4a7f-8deb-fd4635f02bd3",
   "metadata": {},
   "outputs": [
    {
     "data": {
      "text/plain": [
       "[{'input': {'cards': [13, 11, 10, 7, 4, 3, 1, 0], 'query': 1}, 'output': 6},\n",
       " {'input': {'cards': [4, 2, 1, -1], 'query': 4}, 'output': 0},\n",
       " {'input': {'cards': [3, -1, -9, -127], 'query': -127}, 'output': 3},\n",
       " {'input': {'cards': [6], 'query': 6}, 'output': 0}]"
      ]
     },
     "execution_count": 10,
     "metadata": {},
     "output_type": "execute_result"
    }
   ],
   "source": [
    "tests"
   ]
  },
  {
   "cell_type": "code",
   "execution_count": 11,
   "id": "987f2d14-cd77-495e-a0cb-4ae31cd25e98",
   "metadata": {},
   "outputs": [],
   "source": [
    "# cards does not contain query\n",
    "tests.append({\n",
    "    'input':{\n",
    "        'cards': [9, 7, 5, 2, -9],\n",
    "        'query': 4\n",
    "    },\n",
    "    'output': -1\n",
    "})"
   ]
  },
  {
   "cell_type": "code",
   "execution_count": 12,
   "id": "87834a3b-85c9-4aaa-afaa-4744060e9cbc",
   "metadata": {},
   "outputs": [],
   "source": [
    "# cards is empty\n",
    "tests.append({\n",
    "    'input':{\n",
    "        'cards': [],\n",
    "        'query': 7\n",
    "    },\n",
    "    'output': -1\n",
    "})"
   ]
  },
  {
   "cell_type": "code",
   "execution_count": 13,
   "id": "3073ae58-7e09-4b96-895b-e3f70831f3db",
   "metadata": {},
   "outputs": [],
   "source": [
    "# numbers can repeat in cards\n",
    "tests.append({\n",
    "    'input':{\n",
    "        'cards': [8,8,6,6,6,6,6,3,2,2,2,0,0,0],\n",
    "        'query': 3\n",
    "    },\n",
    "    'output': 7\n",
    "})"
   ]
  },
  {
   "cell_type": "code",
   "execution_count": 14,
   "id": "f44f3416-5c99-4c17-a26e-cb7d9190d8a0",
   "metadata": {},
   "outputs": [],
   "source": [
    "# query occurs multiple times\n",
    "tests.append({\n",
    "    'input':{\n",
    "        'cards': [8,8,6,6,6,6,6,3,2,2,2,0,0,0],\n",
    "        'query': 6\n",
    "    },\n",
    "    'output': 2\n",
    "})"
   ]
  },
  {
   "cell_type": "code",
   "execution_count": 15,
   "id": "f4826de7-dd98-4afe-a031-7369211917e4",
   "metadata": {},
   "outputs": [
    {
     "data": {
      "text/plain": [
       "[{'input': {'cards': [13, 11, 10, 7, 4, 3, 1, 0], 'query': 1}, 'output': 6},\n",
       " {'input': {'cards': [4, 2, 1, -1], 'query': 4}, 'output': 0},\n",
       " {'input': {'cards': [3, -1, -9, -127], 'query': -127}, 'output': 3},\n",
       " {'input': {'cards': [6], 'query': 6}, 'output': 0},\n",
       " {'input': {'cards': [9, 7, 5, 2, -9], 'query': 4}, 'output': -1},\n",
       " {'input': {'cards': [], 'query': 7}, 'output': -1},\n",
       " {'input': {'cards': [8, 8, 6, 6, 6, 6, 6, 3, 2, 2, 2, 0, 0, 0], 'query': 3},\n",
       "  'output': 7},\n",
       " {'input': {'cards': [8, 8, 6, 6, 6, 6, 6, 3, 2, 2, 2, 0, 0, 0], 'query': 6},\n",
       "  'output': 2}]"
      ]
     },
     "execution_count": 15,
     "metadata": {},
     "output_type": "execute_result"
    }
   ],
   "source": [
    "tests"
   ]
  },
  {
   "cell_type": "code",
   "execution_count": 16,
   "id": "cfcf52d2-84e5-4f6f-9855-fc98dda3d9a0",
   "metadata": {},
   "outputs": [
    {
     "name": "stdout",
     "output_type": "stream",
     "text": [
      "cards [1, 2, 3]\n",
      "query 4\n"
     ]
    },
    {
     "data": {
      "text/plain": [
       "-1"
      ]
     },
     "execution_count": 16,
     "metadata": {},
     "output_type": "execute_result"
    }
   ],
   "source": [
    "locate_card([1,2,3], 4)"
   ]
  },
  {
   "cell_type": "code",
   "execution_count": 17,
   "id": "2c3b1e89-0f18-4123-8857-886dc16d7ef5",
   "metadata": {},
   "outputs": [
    {
     "name": "stdout",
     "output_type": "stream",
     "text": [
      "cards [13, 11, 10, 7, 4, 3, 1, 0]\n",
      "query 1\n",
      "6\n",
      "cards [13, 11, 10, 7, 4, 3, 1, 0]\n",
      "query 1\n",
      "True\n",
      "cards [4, 2, 1, -1]\n",
      "query 4\n",
      "0\n",
      "cards [4, 2, 1, -1]\n",
      "query 4\n",
      "True\n",
      "cards [3, -1, -9, -127]\n",
      "query -127\n",
      "3\n",
      "cards [3, -1, -9, -127]\n",
      "query -127\n",
      "True\n",
      "cards [6]\n",
      "query 6\n",
      "0\n",
      "cards [6]\n",
      "query 6\n",
      "True\n",
      "cards [9, 7, 5, 2, -9]\n",
      "query 4\n",
      "-1\n",
      "cards [9, 7, 5, 2, -9]\n",
      "query 4\n",
      "True\n",
      "cards []\n",
      "query 7\n",
      "-1\n",
      "cards []\n",
      "query 7\n",
      "True\n",
      "cards [8, 8, 6, 6, 6, 6, 6, 3, 2, 2, 2, 0, 0, 0]\n",
      "query 3\n",
      "7\n",
      "cards [8, 8, 6, 6, 6, 6, 6, 3, 2, 2, 2, 0, 0, 0]\n",
      "query 3\n",
      "True\n",
      "cards [8, 8, 6, 6, 6, 6, 6, 3, 2, 2, 2, 0, 0, 0]\n",
      "query 6\n",
      "2\n",
      "cards [8, 8, 6, 6, 6, 6, 6, 3, 2, 2, 2, 0, 0, 0]\n",
      "query 6\n",
      "True\n"
     ]
    }
   ],
   "source": [
    "for test in tests:\n",
    "    result = locate_card(test['input']['cards'], test['input']['query'])\n",
    "    print(result)\n",
    "    print(locate_card(**test['input']) == test['output'])"
   ]
  },
  {
   "cell_type": "code",
   "execution_count": null,
   "id": "c2c38c99-783a-4e8f-96b5-ad842601a0c1",
   "metadata": {},
   "outputs": [],
   "source": []
  }
 ],
 "metadata": {
  "kernelspec": {
   "display_name": "Python 3 (ipykernel)",
   "language": "python",
   "name": "python3"
  },
  "language_info": {
   "codemirror_mode": {
    "name": "ipython",
    "version": 3
   },
   "file_extension": ".py",
   "mimetype": "text/x-python",
   "name": "python",
   "nbconvert_exporter": "python",
   "pygments_lexer": "ipython3",
   "version": "3.9.13"
  }
 },
 "nbformat": 4,
 "nbformat_minor": 5
}
